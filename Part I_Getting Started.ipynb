{
 "cells": [
  {
   "cell_type": "markdown",
   "id": "c2dc297e",
   "metadata": {},
   "source": [
    "<h1>Welcome to First Steps with Python for Data Analysis</h1>\n",
    "<p>My Name is Matt Steele and I will be your instructor for the session</p>\n",
    "<ul><li>Link to workshops - <a href=\"https://library.wvu.edu/research-help/workshops\">https://library.wvu.edu/research-help/workshops</a></li><li>This workshop was developed using tutorials from O'Reilly's Learning Platform - <a href=\"https://databases.lib.wvu.edu/connect/1540334373\">https://databases.lib.wvu.edu/connect/1540334373</a></li>\n",
    "</ul>"
   ]
  },
  {
   "cell_type": "markdown",
   "id": "70e76a9c",
   "metadata": {},
   "source": [
    "<h3>Basic Concepts _ What is Python and Programming Language Software</h3>\n",
    "<p>Python is a programming language software packages that allows you to give commands to your computer.</p>\n",
    "<ul><li><a href =\"https://www.python.org/\">https://www.python.org/</a></li></ul>"
   ]
  },
  {
   "cell_type": "code",
   "execution_count": 6,
   "id": "331cf18f",
   "metadata": {},
   "outputs": [
    {
     "data": {
      "text/plain": [
       "4"
      ]
     },
     "execution_count": 6,
     "metadata": {},
     "output_type": "execute_result"
    }
   ],
   "source": [
    "\"\"\"\n",
    "Example of Commands - Simple arithmetic. We will come back to Jupyter Notebook, but let's \n",
    "try out some arthimetic in the python console\n",
    "\n",
    "\"\"\"\n",
    "\n",
    "2+2 #Add"
   ]
  },
  {
   "cell_type": "code",
   "execution_count": 7,
   "id": "b14743c9",
   "metadata": {},
   "outputs": [
    {
     "data": {
      "text/plain": [
       "-2"
      ]
     },
     "execution_count": 7,
     "metadata": {},
     "output_type": "execute_result"
    }
   ],
   "source": [
    "2-4 #Subtract"
   ]
  },
  {
   "cell_type": "code",
   "execution_count": 8,
   "id": "1435b874",
   "metadata": {},
   "outputs": [
    {
     "data": {
      "text/plain": [
       "0.5"
      ]
     },
     "execution_count": 8,
     "metadata": {},
     "output_type": "execute_result"
    }
   ],
   "source": [
    "2/4 #Divide"
   ]
  },
  {
   "cell_type": "code",
   "execution_count": 9,
   "id": "9fc7d0cc",
   "metadata": {},
   "outputs": [
    {
     "data": {
      "text/plain": [
       "4"
      ]
     },
     "execution_count": 9,
     "metadata": {},
     "output_type": "execute_result"
    }
   ],
   "source": [
    "2*2 #Multiply"
   ]
  },
  {
   "cell_type": "code",
   "execution_count": 10,
   "id": "0500dfb7",
   "metadata": {},
   "outputs": [
    {
     "data": {
      "text/plain": [
       "0.009230769230769232"
      ]
     },
     "execution_count": 10,
     "metadata": {},
     "output_type": "execute_result"
    }
   ],
   "source": [
    "(3 * 2) / (600 + 50) #Combine"
   ]
  },
  {
   "cell_type": "code",
   "execution_count": 11,
   "id": "8b580a6a",
   "metadata": {},
   "outputs": [
    {
     "data": {
      "text/plain": [
       "9"
      ]
     },
     "execution_count": 11,
     "metadata": {},
     "output_type": "execute_result"
    }
   ],
   "source": [
    "3**2 #power "
   ]
  },
  {
   "cell_type": "markdown",
   "id": "de7c4f3f",
   "metadata": {},
   "source": [
    "<h3>Basic Concepts _ What is Jupyter Notebook and Anaconda</h3>\n",
    "<p>Anaconda repackages Python into for people performing data science processing. Jupyter Notebook provides a GUI and platform that is easier to use, save, and share across various operating systems.</p>"
   ]
  },
  {
   "cell_type": "markdown",
   "id": "8705aaaa",
   "metadata": {},
   "source": [
    "<h3>Fundamental Concepts</h3>\n",
    "<ul>\n",
    "    <li>String – string of characters with no numeric value – “hello world” “26501”</li>\n",
    "    <li>Integer – whole number</li> \n",
    "    <li>Float – number w/ decimal place</li>\n",
    "    <li>Boolean – t/f – True or False </li>\n",
    "    <li>None – nothing, nul, nil </li>\n",
    "</ul>"
   ]
  },
  {
   "cell_type": "code",
   "execution_count": 12,
   "id": "c6eed057",
   "metadata": {},
   "outputs": [
    {
     "data": {
      "text/plain": [
       "str"
      ]
     },
     "execution_count": 12,
     "metadata": {},
     "output_type": "execute_result"
    }
   ],
   "source": [
    "#Type functions\n",
    "\n",
    "type(\"26501\") #string"
   ]
  },
  {
   "cell_type": "code",
   "execution_count": 13,
   "id": "b5d212fd",
   "metadata": {},
   "outputs": [
    {
     "data": {
      "text/plain": [
       "int"
      ]
     },
     "execution_count": 13,
     "metadata": {},
     "output_type": "execute_result"
    }
   ],
   "source": [
    "type(4) #integer"
   ]
  },
  {
   "cell_type": "code",
   "execution_count": 14,
   "id": "fa7d1e11",
   "metadata": {},
   "outputs": [
    {
     "data": {
      "text/plain": [
       "float"
      ]
     },
     "execution_count": 14,
     "metadata": {},
     "output_type": "execute_result"
    }
   ],
   "source": [
    "type(4.5673) #float"
   ]
  },
  {
   "cell_type": "code",
   "execution_count": 15,
   "id": "0393bde3",
   "metadata": {},
   "outputs": [
    {
     "data": {
      "text/plain": [
       "bool"
      ]
     },
     "execution_count": 15,
     "metadata": {},
     "output_type": "execute_result"
    }
   ],
   "source": [
    "type(True) #boolean"
   ]
  },
  {
   "cell_type": "code",
   "execution_count": 16,
   "id": "b4423ef8",
   "metadata": {},
   "outputs": [
    {
     "data": {
      "text/plain": [
       "str"
      ]
     },
     "execution_count": 16,
     "metadata": {},
     "output_type": "execute_result"
    }
   ],
   "source": [
    "#Strings - anything entered in \"\" will be interpreted as a string\n",
    "\n",
    "hello = \"Hello World\"\n",
    "type(hello)\n"
   ]
  },
  {
   "cell_type": "markdown",
   "id": "31b6f90c",
   "metadata": {},
   "source": [
    "<h1>Python Standard Library</h1>\n",
    "<p><a href =\"https://docs.python.org/3/library/index.html\">https://docs.python.org/3/library/index.html</a></p>"
   ]
  },
  {
   "cell_type": "code",
   "execution_count": 21,
   "id": "f62d2dcd",
   "metadata": {},
   "outputs": [
    {
     "name": "stdout",
     "output_type": "stream",
     "text": [
      "Help on built-in function print in module builtins:\n",
      "\n",
      "print(...)\n",
      "    print(value, ..., sep=' ', end='\\n', file=sys.stdout, flush=False)\n",
      "    \n",
      "    Prints the values to a stream, or to sys.stdout by default.\n",
      "    Optional keyword arguments:\n",
      "    file:  a file-like object (stream); defaults to the current sys.stdout.\n",
      "    sep:   string inserted between values, default a space.\n",
      "    end:   string appended after the last value, default a newline.\n",
      "    flush: whether to forcibly flush the stream.\n",
      "\n"
     ]
    }
   ],
   "source": [
    "#Help function\n",
    "\n",
    "help(print)"
   ]
  },
  {
   "cell_type": "markdown",
   "id": "f75c42ed",
   "metadata": {},
   "source": [
    "<h3>Fundamental Concepts in Python</h3>\n",
    "<ul>\n",
    "    <li>Variables</li>\n",
    "    <li>Types</li>\n",
    "    <li>Functions</li>\n",
    "    <li>Libraries</li>\n",
    "    <li>Comparison</li>\n",
    "    <li>Conditionals</li>\n",
    "    <li>Looping</li>\n",
    "    <li>Lists</li>\n",
    "</ul>"
   ]
  },
  {
   "cell_type": "code",
   "execution_count": null,
   "id": "503981e4",
   "metadata": {},
   "outputs": [],
   "source": []
  }
 ],
 "metadata": {
  "kernelspec": {
   "display_name": "Python 3",
   "language": "python",
   "name": "python3"
  },
  "language_info": {
   "codemirror_mode": {
    "name": "ipython",
    "version": 3
   },
   "file_extension": ".py",
   "mimetype": "text/x-python",
   "name": "python",
   "nbconvert_exporter": "python",
   "pygments_lexer": "ipython3",
   "version": "3.8.8"
  }
 },
 "nbformat": 4,
 "nbformat_minor": 5
}
