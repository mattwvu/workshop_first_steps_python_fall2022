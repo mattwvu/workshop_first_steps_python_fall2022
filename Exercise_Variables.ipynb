{
 "cells": [
  {
   "cell_type": "code",
   "execution_count": null,
   "id": "d1a7b826",
   "metadata": {},
   "outputs": [],
   "source": [
    "#### Give a temperature in Fahrenheit and return it in Celsius\n",
    "## Ask for temperature in Fahrenheit\n",
    "\n",
    "temp_f = \n",
    "\n",
    "\n",
    "## Calculate temp in Celsius\n",
    "# T(^C) = (T^F – 32) * 5/9\n",
    "\n",
    "temp_c = \n",
    "print(\"Temp in C: \" + str(temp_c))"
   ]
  }
 ],
 "metadata": {
  "kernelspec": {
   "display_name": "Python 3",
   "language": "python",
   "name": "python3"
  },
  "language_info": {
   "codemirror_mode": {
    "name": "ipython",
    "version": 3
   },
   "file_extension": ".py",
   "mimetype": "text/x-python",
   "name": "python",
   "nbconvert_exporter": "python",
   "pygments_lexer": "ipython3",
   "version": "3.8.8"
  }
 },
 "nbformat": 4,
 "nbformat_minor": 5
}
