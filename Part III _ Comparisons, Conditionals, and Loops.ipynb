{
 "cells": [
  {
   "cell_type": "markdown",
   "id": "3a4d9d23",
   "metadata": {},
   "source": [
    "<h1>Comparisons and Boolean Operators</h1>\n",
    "<p>Use comparison operators to determine if objects in python are identical to each other.</p>\n",
    "<ul style =\"font-size:1.15em;\">\n",
    "    <li>Equal ( == )</li>\n",
    "    <li>Not equal ( != )</li>\n",
    "    <li>Greater than ( > )</li>\n",
    "    <li>Less than ( < )</li>\n",
    "    <li>Greater than or equal ( >= )</li>\n",
    "    <li>Less than or equal ( <= )</li>\n",
    "    </ul>"
   ]
  },
  {
   "cell_type": "code",
   "execution_count": 3,
   "id": "048d0e3e",
   "metadata": {},
   "outputs": [
    {
     "data": {
      "text/plain": [
       "False"
      ]
     },
     "execution_count": 3,
     "metadata": {},
     "output_type": "execute_result"
    }
   ],
   "source": [
    "#Comparison\n",
    "\n",
    "fruit1= \"apple\"\n",
    "fruit2= \"organge\"\n",
    "\n",
    "#Are items/variables == to eachother\n",
    "fruit1 == fruit2"
   ]
  },
  {
   "cell_type": "code",
   "execution_count": 4,
   "id": "14f31ae5",
   "metadata": {},
   "outputs": [
    {
     "data": {
      "text/plain": [
       "True"
      ]
     },
     "execution_count": 4,
     "metadata": {},
     "output_type": "execute_result"
    }
   ],
   "source": [
    "#Comparison\n",
    "\n",
    "fruit1= \"apple\"\n",
    "fruit2= \"apple\"\n",
    "\n",
    "#Are items/variables == to eachother\n",
    "fruit1 == fruit2"
   ]
  },
  {
   "cell_type": "code",
   "execution_count": 6,
   "id": "5bb817d0",
   "metadata": {},
   "outputs": [
    {
     "data": {
      "text/plain": [
       "True"
      ]
     },
     "execution_count": 6,
     "metadata": {},
     "output_type": "execute_result"
    }
   ],
   "source": [
    "#Comparison\n",
    "\n",
    "number1 = 1\n",
    "number2 = 2\n",
    "\n",
    "#Are items/variables == to eachother\n",
    "number1 != number2"
   ]
  },
  {
   "cell_type": "code",
   "execution_count": 7,
   "id": "a24aeebd",
   "metadata": {},
   "outputs": [
    {
     "data": {
      "text/plain": [
       "True"
      ]
     },
     "execution_count": 7,
     "metadata": {},
     "output_type": "execute_result"
    }
   ],
   "source": [
    "##boolean operators - > Can be combined variables/inputs with boolean operators AND, OR, NOT\n",
    "\n",
    "6 > 3 and 1 < 2"
   ]
  },
  {
   "cell_type": "code",
   "execution_count": 8,
   "id": "12dcc88c",
   "metadata": {},
   "outputs": [
    {
     "data": {
      "text/plain": [
       "False"
      ]
     },
     "execution_count": 8,
     "metadata": {},
     "output_type": "execute_result"
    }
   ],
   "source": [
    "#Can check existence of an object in a string\n",
    "\n",
    "\"n\" in \"mississippi\""
   ]
  },
  {
   "cell_type": "markdown",
   "id": "9f37ad2a",
   "metadata": {},
   "source": [
    "<h1>Conditionals</h1>\n",
    "<p>Python operators that looks to see if an object meets stated conditions and will then run operations based of those determinations.</p>\n",
    "<ul style =\"font-size:1.15em;\">\n",
    "    <li>If = If the conditions made in the statement are met then perform the operation.</li>\n",
    "    <li>Else = If the conditions made in the statement are NOT met then perform another operations.</li>\n",
    "    <li>Elif = If the condition made in the statement are NOT met by either the IF statement or the ELSE statement perform this operation.</li>\n",
    "    </ul>"
   ]
  },
  {
   "cell_type": "code",
   "execution_count": 9,
   "id": "bb3ddb48",
   "metadata": {},
   "outputs": [
    {
     "name": "stdout",
     "output_type": "stream",
     "text": [
      "Go eat something\n",
      "Continue with your day\n"
     ]
    }
   ],
   "source": [
    "#Conditionals\n",
    "\n",
    "hungry = True\n",
    "\n",
    "if hungry:\n",
    "    print(\"Go eat something\")\n",
    "    \n",
    "print(\"Continue with your day\")"
   ]
  },
  {
   "cell_type": "code",
   "execution_count": null,
   "id": "e74a8565",
   "metadata": {},
   "outputs": [],
   "source": [
    "#Conditionals\n",
    "\n",
    "hungry = False\n",
    "\n",
    "if hungry:\n",
    "    print(\"Go eat something\")\n",
    "else:\n",
    "    print(\"Eat this anyway\")"
   ]
  },
  {
   "cell_type": "code",
   "execution_count": null,
   "id": "c1db14e9",
   "metadata": {},
   "outputs": [],
   "source": [
    "#Multiple Criteria elif\n",
    "#elif water_temp == 0: --> not bad\n",
    "\n",
    "water_temp = 0\n",
    "\n",
    "if water_temp < 0:\n",
    "    print(\"brrrrrr\")\n",
    "elif water_temp > 100:\n",
    "    print(\"tccchhhhh\")\n",
    "else:\n",
    "    print(\"I can drink this\")"
   ]
  },
  {
   "cell_type": "markdown",
   "id": "b47f3776",
   "metadata": {},
   "source": [
    "<h1>Loops</h1>\n",
    "<p>The requested operation will repeat until it is told to stop.</p>"
   ]
  },
  {
   "cell_type": "code",
   "execution_count": null,
   "id": "66ba8e01",
   "metadata": {},
   "outputs": [],
   "source": [
    "while True:\n",
    "    print(\"It's still true\")"
   ]
  },
  {
   "cell_type": "code",
   "execution_count": null,
   "id": "5c4ae732",
   "metadata": {},
   "outputs": [],
   "source": [
    "x = 0\n",
    "while x <= 20:\n",
    "    print(x)\n",
    "    x = x + 1\n",
    "    \n",
    "print(\"Stop looping\")"
   ]
  },
  {
   "cell_type": "code",
   "execution_count": 10,
   "id": "5aefcc4c",
   "metadata": {},
   "outputs": [
    {
     "name": "stdout",
     "output_type": "stream",
     "text": [
      "0\n",
      "1\n",
      "2\n",
      "3\n",
      "4\n",
      "5\n",
      "6\n",
      "7\n"
     ]
    }
   ],
   "source": [
    "x = 0\n",
    "while x <= 20:\n",
    "    if x == 8:\n",
    "        break\n",
    "    print(x)\n",
    "    x = x + 1"
   ]
  },
  {
   "cell_type": "code",
   "execution_count": null,
   "id": "0b585afb",
   "metadata": {},
   "outputs": [],
   "source": []
  }
 ],
 "metadata": {
  "kernelspec": {
   "display_name": "Python 3",
   "language": "python",
   "name": "python3"
  },
  "language_info": {
   "codemirror_mode": {
    "name": "ipython",
    "version": 3
   },
   "file_extension": ".py",
   "mimetype": "text/x-python",
   "name": "python",
   "nbconvert_exporter": "python",
   "pygments_lexer": "ipython3",
   "version": "3.8.8"
  }
 },
 "nbformat": 4,
 "nbformat_minor": 5
}
