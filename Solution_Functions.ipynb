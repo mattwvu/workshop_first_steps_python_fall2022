{
 "cells": [
  {
   "cell_type": "code",
   "execution_count": null,
   "id": "db6eb59e",
   "metadata": {},
   "outputs": [],
   "source": [
    "import random\n",
    "\n",
    "roll1 = random.randint  (1, 6)\n",
    "roll2 = random.randint (1, 6)\n",
    "\n",
    "def dice():\n",
    "    print(roll1, roll2)\n",
    "    \n",
    "    \n",
    "dice()"
   ]
  }
 ],
 "metadata": {
  "kernelspec": {
   "display_name": "Python 3",
   "language": "python",
   "name": "python3"
  },
  "language_info": {
   "codemirror_mode": {
    "name": "ipython",
    "version": 3
   },
   "file_extension": ".py",
   "mimetype": "text/x-python",
   "name": "python",
   "nbconvert_exporter": "python",
   "pygments_lexer": "ipython3",
   "version": "3.8.8"
  }
 },
 "nbformat": 4,
 "nbformat_minor": 5
}
