{
 "cells": [
  {
   "cell_type": "code",
   "execution_count": 40,
   "id": "2efaba21",
   "metadata": {},
   "outputs": [
    {
     "name": "stdout",
     "output_type": "stream",
     "text": [
      "Temp in F: 32\n",
      "Temp in C: 0.0\n"
     ]
    }
   ],
   "source": [
    "#### Give a temperature in Fahrenheit and return it in Celsius\n",
    "## Ask for temperature in Fahrenheit\n",
    "\n",
    "temp_f = input(\"Temp in F: \")\n",
    "\n",
    "\n",
    "## Calculate temp in Celsius\n",
    "# T(^C) = (T^F – 32) * 5/9\n",
    "\n",
    "temp_c = (int(temp_f) - 32) * 5/9\n",
    "print(\"Temp in C: \" + str(temp_c))"
   ]
  },
  {
   "cell_type": "code",
   "execution_count": 41,
   "id": "44893238",
   "metadata": {},
   "outputs": [
    {
     "name": "stdout",
     "output_type": "stream",
     "text": [
      "0.0\n",
      "1.0\n",
      "2.0\n",
      "3.0\n",
      "4.0\n",
      "5.0\n",
      "6.0\n",
      "7.0\n",
      "8.0\n",
      "9.0\n"
     ]
    }
   ],
   "source": [
    "while temp_c < 25:\n",
    "    if temp_c == 10:\n",
    "        break\n",
    "    print(temp_c)\n",
    "    temp_c = temp_c + 1"
   ]
  },
  {
   "cell_type": "code",
   "execution_count": null,
   "id": "6da8e04c",
   "metadata": {},
   "outputs": [],
   "source": [
    "#Write a if conditional statement that adds one degree and then ends when it hits 10 degrees"
   ]
  }
 ],
 "metadata": {
  "kernelspec": {
   "display_name": "Python 3",
   "language": "python",
   "name": "python3"
  },
  "language_info": {
   "codemirror_mode": {
    "name": "ipython",
    "version": 3
   },
   "file_extension": ".py",
   "mimetype": "text/x-python",
   "name": "python",
   "nbconvert_exporter": "python",
   "pygments_lexer": "ipython3",
   "version": "3.8.8"
  }
 },
 "nbformat": 4,
 "nbformat_minor": 5
}
