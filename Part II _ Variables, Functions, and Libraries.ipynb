{
 "cells": [
  {
   "cell_type": "markdown",
   "id": "1e50e571",
   "metadata": {},
   "source": [
    "<h1>Variables</h1>\n",
    "<p>Variables are containers for storing data values.</p>\n",
    "<ul>\n",
    "    <li>Syntax: named_container = value_assigned</li>\n",
    "    <li>x = 5</li>\n",
    "    </ul>"
   ]
  },
  {
   "cell_type": "code",
   "execution_count": 2,
   "id": "bfc19b7c",
   "metadata": {},
   "outputs": [],
   "source": [
    "#Examples \n",
    "\n",
    "x = 5\n",
    "\n",
    "y = 5*5\n",
    "\n",
    "z = \"Hello World\""
   ]
  },
  {
   "cell_type": "code",
   "execution_count": 3,
   "id": "bff0f693",
   "metadata": {},
   "outputs": [
    {
     "name": "stdout",
     "output_type": "stream",
     "text": [
      "5\n"
     ]
    },
    {
     "data": {
      "text/plain": [
       "11"
      ]
     },
     "execution_count": 3,
     "metadata": {},
     "output_type": "execute_result"
    }
   ],
   "source": [
    "print(x)\n",
    "\n",
    "len(z)"
   ]
  },
  {
   "cell_type": "code",
   "execution_count": null,
   "id": "f0173e33",
   "metadata": {},
   "outputs": [],
   "source": [
    "color = \"red\"\n",
    "x = 5 + 5\n",
    "print(\"hello if the number is \" + str(x) + \" then print in a \" + str(color) + \" font\")"
   ]
  },
  {
   "cell_type": "markdown",
   "id": "d515ad1b",
   "metadata": {},
   "source": [
    "<h1>Functions</h1>\n",
    "<p>A function is a block of code which only runs when it is called.</p>"
   ]
  },
  {
   "cell_type": "markdown",
   "id": "015b4ef4",
   "metadata": {},
   "source": [
    "<h3>Creating a function</h3>"
   ]
  },
  {
   "cell_type": "code",
   "execution_count": 4,
   "id": "2d469b9e",
   "metadata": {},
   "outputs": [
    {
     "name": "stdout",
     "output_type": "stream",
     "text": [
      "Hello from a function\n"
     ]
    }
   ],
   "source": [
    "#You can create functions using def\n",
    "\n",
    "def my_function():\n",
    "  print(\"Hello from a function\")\n",
    "\n",
    "my_function()"
   ]
  },
  {
   "cell_type": "code",
   "execution_count": 15,
   "id": "3b8e7594",
   "metadata": {},
   "outputs": [
    {
     "name": "stdout",
     "output_type": "stream",
     "text": [
      "What is your name: matt\n",
      "What is your age: 32\n",
      "matt 32\n"
     ]
    }
   ],
   "source": [
    "#You can call built-in functions as well\n",
    "\n",
    "name = input(\"What is your name: \")\n",
    "age = input(\"What is your age: \")\n",
    "\n",
    "def demo(name, age):\n",
    "    print(name, age)\n",
    "\n",
    "# call function\n",
    "demo(name, age)"
   ]
  },
  {
   "cell_type": "markdown",
   "id": "64dacb6e",
   "metadata": {},
   "source": [
    "<h1>Libraries</h1>\n",
    "<p>Collection of pre-combined codes and functions that are built in.</p>"
   ]
  },
  {
   "cell_type": "code",
   "execution_count": null,
   "id": "060c2e41",
   "metadata": {},
   "outputs": [],
   "source": [
    "#view currently installed libraries\n",
    "\n",
    "!pip list"
   ]
  },
  {
   "cell_type": "code",
   "execution_count": 20,
   "id": "b5710278",
   "metadata": {},
   "outputs": [],
   "source": [
    "#call libraries with import\n",
    "\n",
    "import random"
   ]
  },
  {
   "cell_type": "code",
   "execution_count": 31,
   "id": "f028da90",
   "metadata": {},
   "outputs": [
    {
     "name": "stdout",
     "output_type": "stream",
     "text": [
      "2\n",
      "2\n",
      "You rolled a 2 and a 2\n"
     ]
    }
   ],
   "source": [
    "### Randomly role a number between 1 and 6\n",
    "\n",
    "number1 = random.randint  (1, 6)\n",
    "print (number1)\n",
    "\n",
    "number2 = random.randint (1, 6)\n",
    "print (number2)\n",
    "\n",
    "print(\"You rolled a \" + str(number1) + \" and a \" + str(number2))"
   ]
  },
  {
   "cell_type": "markdown",
   "id": "1e9c41e2",
   "metadata": {},
   "source": [
    "<h3>Install a package with Conda</h3>\n",
    "\n",
    "<p><a href=\"https://anaconda.org/\">https://anaconda.org/</a></p>"
   ]
  },
  {
   "cell_type": "code",
   "execution_count": 32,
   "id": "a1613dc4",
   "metadata": {},
   "outputs": [
    {
     "name": "stdout",
     "output_type": "stream",
     "text": [
      "Collecting package metadata (current_repodata.json): ...working... done\n",
      "Solving environment: ...working... done\n",
      "\n",
      "## Package Plan ##\n",
      "\n",
      "  environment location: C:\\Users\\Matt\\anaconda3\n",
      "\n",
      "  added / updated specs:\n",
      "    - htrc-feature-reader\n",
      "\n",
      "\n",
      "The following packages will be downloaded:\n",
      "\n",
      "    package                    |            build\n",
      "    ---------------------------|-----------------\n",
      "    htrc-feature-reader-2.0.7  |             py_0          38 KB  htrc\n",
      "    pymarc-3.1.10              |             py_0         108 KB  htrc\n",
      "    python-rapidjson-1.4       |   py38hd77b12b_0         109 KB\n",
      "    ------------------------------------------------------------\n",
      "                                           Total:         255 KB\n",
      "\n",
      "The following NEW packages will be INSTALLED:\n",
      "\n",
      "  htrc-feature-read~ htrc/noarch::htrc-feature-reader-2.0.7-py_0\n",
      "  pymarc             htrc/noarch::pymarc-3.1.10-py_0\n",
      "  python-rapidjson   pkgs/main/win-64::python-rapidjson-1.4-py38hd77b12b_0\n",
      "\n",
      "\n",
      "\n",
      "Downloading and Extracting Packages\n",
      "\n",
      "pymarc-3.1.10        | 108 KB    |            |   0% \n",
      "pymarc-3.1.10        | 108 KB    | ########## | 100% \n",
      "pymarc-3.1.10        | 108 KB    | ########## | 100% \n",
      "\n",
      "htrc-feature-reader- | 38 KB     |            |   0% \n",
      "htrc-feature-reader- | 38 KB     | ########## | 100% \n",
      "htrc-feature-reader- | 38 KB     | ########## | 100% \n",
      "\n",
      "python-rapidjson-1.4 | 109 KB    |            |   0% \n",
      "python-rapidjson-1.4 | 109 KB    | #4         |  15% \n",
      "python-rapidjson-1.4 | 109 KB    | ####3      |  44% \n",
      "python-rapidjson-1.4 | 109 KB    | ########7  |  88% \n",
      "python-rapidjson-1.4 | 109 KB    | ########## | 100% \n",
      "Preparing transaction: ...working... done\n",
      "Verifying transaction: ...working... done\n",
      "Executing transaction: ...working... done\n",
      "\n",
      "Note: you may need to restart the kernel to use updated packages.\n"
     ]
    }
   ],
   "source": [
    "conda install -c htrc htrc-feature-reader"
   ]
  },
  {
   "cell_type": "markdown",
   "id": "5fdfd5f9",
   "metadata": {},
   "source": [
    "<h3>Important Libraries for Data Science</h3>\n",
    "<ul>\n",
    "    <li><a href=\"https://pandas.pydata.org/\">Pandas</a></li>\n",
    "    <li><a href=\"https://matplotlib.org/\">Matplotlib</a></li>\n",
    "    <li><a href=\"https://numpy.org/\">NumPy</a></li>\n",
    "    <li><a href=\"https://www.scipy.org/\">SciPy</a></li>\n",
    "    <li><a href=\"https://plotly.com/python/\">Plotly</a></li>\n",
    "    </ul>"
   ]
  },
  {
   "cell_type": "code",
   "execution_count": null,
   "id": "7ccaffdd",
   "metadata": {},
   "outputs": [],
   "source": []
  }
 ],
 "metadata": {
  "kernelspec": {
   "display_name": "Python 3",
   "language": "python",
   "name": "python3"
  },
  "language_info": {
   "codemirror_mode": {
    "name": "ipython",
    "version": 3
   },
   "file_extension": ".py",
   "mimetype": "text/x-python",
   "name": "python",
   "nbconvert_exporter": "python",
   "pygments_lexer": "ipython3",
   "version": "3.8.8"
  }
 },
 "nbformat": 4,
 "nbformat_minor": 5
}
