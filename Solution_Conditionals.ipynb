{
 "cells": [
  {
   "cell_type": "code",
   "execution_count": null,
   "id": "3a887b76",
   "metadata": {},
   "outputs": [],
   "source": [
    "#### Give a temperature in Fahrenheit and return it in Celsius\n",
    "## Ask for temperature in Fahrenheit\n",
    "\n",
    "temp_f = input(\"Temp in F: \")\n",
    "\n",
    "\n",
    "## Calculate temp in Celsius\n",
    "# T(^C) = (T^F – 32) * 5/9\n",
    "\n",
    "temp_c = (int(temp_f) - 32) * 5/9\n",
    "print(\"Temp in C: \" + str(temp_c))"
   ]
  },
  {
   "cell_type": "code",
   "execution_count": null,
   "id": "ee2821b2",
   "metadata": {},
   "outputs": [],
   "source": [
    "if temp_c < 10:\n",
    "    print(\"Brrrrrr\")\n",
    "else:\n",
    "    print(\"Not too bad\")"
   ]
  }
 ],
 "metadata": {
  "kernelspec": {
   "display_name": "Python 3",
   "language": "python",
   "name": "python3"
  },
  "language_info": {
   "codemirror_mode": {
    "name": "ipython",
    "version": 3
   },
   "file_extension": ".py",
   "mimetype": "text/x-python",
   "name": "python",
   "nbconvert_exporter": "python",
   "pygments_lexer": "ipython3",
   "version": "3.8.8"
  }
 },
 "nbformat": 4,
 "nbformat_minor": 5
}
